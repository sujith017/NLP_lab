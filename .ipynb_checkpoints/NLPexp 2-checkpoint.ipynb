{
 "cells": [
  {
   "cell_type": "code",
   "execution_count": 1,
   "id": "5b0d723c",
   "metadata": {},
   "outputs": [
    {
     "name": "stdout",
     "output_type": "stream",
     "text": [
      "hello all\n"
     ]
    }
   ],
   "source": [
    "str='hello' + \" all\"\n",
    "print(str)"
   ]
  },
  {
   "cell_type": "code",
   "execution_count": 2,
   "id": "1edce09f",
   "metadata": {},
   "outputs": [
    {
     "name": "stdout",
     "output_type": "stream",
     "text": [
      "Heloo I'm\n",
      "Suhi\n",
      "from AIML B\n"
     ]
    }
   ],
   "source": [
    "multi=\"\"\"Heloo I'm\n",
    "Suhi\n",
    "from AIML B\"\"\"\n",
    "print(multi)"
   ]
  },
  {
   "cell_type": "code",
   "execution_count": 3,
   "id": "23e87c4b",
   "metadata": {},
   "outputs": [
    {
     "name": "stdout",
     "output_type": "stream",
     "text": [
      "D:\\2023-24 Even\\NLP Lab\\file.txt\n"
     ]
    }
   ],
   "source": [
    "raw_string = r'D:\\2023-24 Even\\NLP Lab\\file.txt'#r denotes the raw string here backslahe is treated as literals,if we added with r it would perform the backslach operation \n",
    "print (raw_string)\n"
   ]
  },
  {
   "cell_type": "code",
   "execution_count": 4,
   "id": "d287eb91",
   "metadata": {},
   "outputs": [
    {
     "name": "stdout",
     "output_type": "stream",
     "text": [
      "Hello World\n"
     ]
    }
   ],
   "source": [
    "print('Hello' + ' World') #concatenation"
   ]
  },
  {
   "cell_type": "code",
   "execution_count": 5,
   "id": "93b20a09",
   "metadata": {},
   "outputs": [
    {
     "name": "stdout",
     "output_type": "stream",
     "text": [
      "welcome you all!\n"
     ]
    }
   ],
   "source": [
    "s=\"welcome\"\n",
    "s1=\" you all!\"\n",
    "print(s+s1)#here we have created the 2 varibles and concatenated while printing it."
   ]
  },
  {
   "cell_type": "code",
   "execution_count": 6,
   "id": "e3f18a38",
   "metadata": {},
   "outputs": [
    {
     "name": "stdout",
     "output_type": "stream",
     "text": [
      "welcomewelcomewelcome\n"
     ]
    }
   ],
   "source": [
    "print(s*3)#here i just asked to print the variale value for 3times "
   ]
  },
  {
   "cell_type": "code",
   "execution_count": 7,
   "id": "4b12f3fa",
   "metadata": {},
   "outputs": [
    {
     "data": {
      "text/plain": [
       "7"
      ]
     },
     "execution_count": 7,
     "metadata": {},
     "output_type": "execute_result"
    }
   ],
   "source": [
    "len(s) #it just count all the letters and the whitespaces we included "
   ]
  },
  {
   "cell_type": "code",
   "execution_count": 8,
   "id": "67a5920a",
   "metadata": {},
   "outputs": [
    {
     "name": "stdout",
     "output_type": "stream",
     "text": [
      "Hello all,we welcome you for the meeting\n"
     ]
    }
   ],
   "source": [
    "s2='Hello all,we welcome you for the meeting'\n",
    "print(s2)"
   ]
  },
  {
   "cell_type": "code",
   "execution_count": 9,
   "id": "4967fbf6",
   "metadata": {},
   "outputs": [
    {
     "name": "stdout",
     "output_type": "stream",
     "text": [
      "True\n"
     ]
    }
   ],
   "source": [
    "print('we'in s2) #we checked whethere the provided words present in s2 or not "
   ]
  },
  {
   "cell_type": "code",
   "execution_count": 10,
   "id": "5bb3a8c8",
   "metadata": {},
   "outputs": [
    {
     "name": "stdout",
     "output_type": "stream",
     "text": [
      "False\n"
     ]
    }
   ],
   "source": [
    "print('AI'in s2)"
   ]
  },
  {
   "cell_type": "code",
   "execution_count": 11,
   "id": "6b6b83a7",
   "metadata": {},
   "outputs": [
    {
     "name": "stdout",
     "output_type": "stream",
     "text": [
      "H\n"
     ]
    }
   ],
   "source": [
    "s3='HAPPY'#for positive the index value starts with 0\n",
    "print(s3[0]) #simply we had printed the variables by specifying its index value "
   ]
  },
  {
   "cell_type": "code",
   "execution_count": 12,
   "id": "c206f18d",
   "metadata": {},
   "outputs": [
    {
     "name": "stdout",
     "output_type": "stream",
     "text": [
      "Y\n"
     ]
    }
   ],
   "source": [
    "print(s3[4])"
   ]
  },
  {
   "cell_type": "code",
   "execution_count": 13,
   "id": "88662888",
   "metadata": {},
   "outputs": [
    {
     "name": "stdout",
     "output_type": "stream",
     "text": [
      "A\n"
     ]
    }
   ],
   "source": [
    "print(s3[-4])#for negative indexing the value starts from -1 "
   ]
  },
  {
   "cell_type": "code",
   "execution_count": 14,
   "id": "f87799b7",
   "metadata": {
    "scrolled": true
   },
   "outputs": [
    {
     "name": "stdout",
     "output_type": "stream",
     "text": [
      "egelloc\n"
     ]
    }
   ],
   "source": [
    "s4='college'\n",
    "print(s4[::-1])#by specifying its we can print the given word in reverse order "
   ]
  },
  {
   "cell_type": "code",
   "execution_count": 15,
   "id": "b13ca7fa",
   "metadata": {},
   "outputs": [
    {
     "name": "stdout",
     "output_type": "stream",
     "text": [
      "LANGUAGE\n"
     ]
    }
   ],
   "source": [
    "s5='LANGUAGE'\n",
    "print(s5[:])#here we havent mentioned any starting value and ending value so it initally taken as 0 so prints all the value "
   ]
  },
  {
   "cell_type": "code",
   "execution_count": 16,
   "id": "c461593d",
   "metadata": {},
   "outputs": [
    {
     "name": "stdout",
     "output_type": "stream",
     "text": [
      "NGU\n",
      "GUAGE\n",
      "LANG\n",
      "A\n"
     ]
    }
   ],
   "source": [
    "print(s5[2:5]) #here we have specified value from 2 to 5,then it prints 2 to 4 words\n",
    "print(s5[3:])#inital slicing \n",
    "print(s5[:4])#last slicing \n",
    "print(s5[1:4:5])#here mentioned the start value,stop value and step value "
   ]
  },
  {
   "cell_type": "code",
   "execution_count": 17,
   "id": "23e3000b",
   "metadata": {},
   "outputs": [
    {
     "name": "stdout",
     "output_type": "stream",
     "text": [
      "Python is great\n"
     ]
    }
   ],
   "source": [
    "s6 = 'python is great'# Capitalize only the first letter of the string\n",
    "print(s6.capitalize())"
   ]
  },
  {
   "cell_type": "code",
   "execution_count": 18,
   "id": "bcf3680c",
   "metadata": {},
   "outputs": [
    {
     "name": "stdout",
     "output_type": "stream",
     "text": [
      "PYTHON IS GREAT\n"
     ]
    }
   ],
   "source": [
    "print(s6.upper())"
   ]
  },
  {
   "cell_type": "code",
   "execution_count": 19,
   "id": "246a5f05",
   "metadata": {},
   "outputs": [
    {
     "name": "stdout",
     "output_type": "stream",
     "text": [
      "python is great\n"
     ]
    }
   ],
   "source": [
    "print(s6.lower())"
   ]
  },
  {
   "cell_type": "code",
   "execution_count": 20,
   "id": "28febf5f",
   "metadata": {},
   "outputs": [
    {
     "name": "stdout",
     "output_type": "stream",
     "text": [
      "False\n"
     ]
    }
   ],
   "source": [
    "print(s6.isupper())"
   ]
  },
  {
   "cell_type": "code",
   "execution_count": 21,
   "id": "de7d0e74",
   "metadata": {},
   "outputs": [
    {
     "name": "stdout",
     "output_type": "stream",
     "text": [
      "True\n"
     ]
    }
   ],
   "source": [
    "print(s6.islower())"
   ]
  },
  {
   "cell_type": "code",
   "execution_count": 22,
   "id": "a2627929",
   "metadata": {},
   "outputs": [
    {
     "name": "stdout",
     "output_type": "stream",
     "text": [
      "python is the interpreted language\n"
     ]
    }
   ],
   "source": [
    "print(s6.replace('great','the interpreted language'))"
   ]
  },
  {
   "cell_type": "code",
   "execution_count": 23,
   "id": "d35e5357",
   "metadata": {},
   "outputs": [
    {
     "name": "stdout",
     "output_type": "stream",
     "text": [
      "['I am', ' going to', 'college']\n",
      "I am  going to college\n"
     ]
    }
   ],
   "source": [
    "s7 = 'I am, going to,college'# Splitting the string by commas\n",
    "print(s7.split(','))\n",
    "print(' '.join(s7.split(',')))"
   ]
  },
  {
   "cell_type": "code",
   "execution_count": 24,
   "id": "402d7cca",
   "metadata": {},
   "outputs": [
    {
     "name": "stdout",
     "output_type": "stream",
     "text": [
      "come to class  immediately\n"
     ]
    }
   ],
   "source": [
    "s8=' come to class  immediately '#strip function removes the whitepace before and the end of the sentence \n",
    "print(s8.strip())"
   ]
  },
  {
   "cell_type": "code",
   "execution_count": 25,
   "id": "3726c31e",
   "metadata": {},
   "outputs": [
    {
     "name": "stdout",
     "output_type": "stream",
     "text": [
      "Natural Language Processing\n"
     ]
    }
   ],
   "source": [
    "s ='natural language processing'\n",
    "print (s.title())"
   ]
  },
  {
   "cell_type": "code",
   "execution_count": 26,
   "id": "4f7f0418",
   "metadata": {},
   "outputs": [
    {
     "name": "stdout",
     "output_type": "stream",
     "text": [
      "come to class immediately\n"
     ]
    }
   ],
   "source": [
    "import re\n",
    "s8=' come to class  immediately '# Remove extra whitespace (including leading and trailing spaces)\n",
    "print(re.sub(r'\\s+', ' ', s8).strip())\n",
    "\n"
   ]
  },
  {
   "cell_type": "code",
   "execution_count": 27,
   "id": "a4883575",
   "metadata": {},
   "outputs": [
    {
     "name": "stdout",
     "output_type": "stream",
     "text": [
      "0\n",
      "1\n",
      "False\n"
     ]
    }
   ],
   "source": [
    "s9 = 'natural language'\n",
    "print(s9.find('natural'))\n",
    "print(s9.count('language'))\n",
    "print(s9.isalpha())\n",
    "\n"
   ]
  },
  {
   "cell_type": "code",
   "execution_count": 28,
   "id": "d3fbd3b0",
   "metadata": {},
   "outputs": [
    {
     "name": "stdout",
     "output_type": "stream",
     "text": [
      "False\n"
     ]
    }
   ],
   "source": [
    "print(s9.isdigit())"
   ]
  },
  {
   "cell_type": "code",
   "execution_count": 29,
   "id": "4b3e88ed",
   "metadata": {},
   "outputs": [
    {
     "name": "stdout",
     "output_type": "stream",
     "text": [
      "False\n"
     ]
    }
   ],
   "source": [
    "print(s9.isspace())"
   ]
  },
  {
   "cell_type": "code",
   "execution_count": 30,
   "id": "00213836",
   "metadata": {},
   "outputs": [
    {
     "name": "stdout",
     "output_type": "stream",
     "text": [
      "False\n"
     ]
    }
   ],
   "source": [
    "print(s9.startswith('all'))"
   ]
  },
  {
   "cell_type": "code",
   "execution_count": 31,
   "id": "f7020373",
   "metadata": {},
   "outputs": [
    {
     "name": "stdout",
     "output_type": "stream",
     "text": [
      "True\n"
     ]
    }
   ],
   "source": [
    "print(s9.endswith('language'))"
   ]
  },
  {
   "cell_type": "code",
   "execution_count": 32,
   "id": "b3bae3b8",
   "metadata": {},
   "outputs": [
    {
     "name": "stdout",
     "output_type": "stream",
     "text": [
      "None\n"
     ]
    }
   ],
   "source": [
    "import re\n",
    "\n",
    "S1 = 'Python is an excellent language'\n",
    "S2 = 'I love the Python language. I also use Python to build applications at work!'\n",
    "# Match only returns a match if regex match is found at the beginning of the string\n",
    "pattern = 'python'\n",
    "\n",
    "print(re.match(pattern, S1))                   \n"
   ]
  },
  {
   "cell_type": "code",
   "execution_count": 33,
   "id": "4b25ed7e",
   "metadata": {},
   "outputs": [
    {
     "name": "stdout",
     "output_type": "stream",
     "text": [
      "<re.Match object; span=(0, 6), match='Python'>\n"
     ]
    }
   ],
   "source": [
    "print(re.match(pattern, S1, flags=re.IGNORECASE))  # <re.Match object; span=(0, 6), match='Python'>\n",
    "\n"
   ]
  },
  {
   "cell_type": "code",
   "execution_count": 34,
   "id": "c9142acb",
   "metadata": {},
   "outputs": [
    {
     "name": "stdout",
     "output_type": "stream",
     "text": [
      "<re.Match object; span=(11, 17), match='Python'>\n",
      "['Python', 'Python']\n"
     ]
    }
   ],
   "source": [
    "print(re.search(pattern, S2, re.IGNORECASE))  # <re.Match object; span=(11, 17), match='Python'>\n",
    "\n",
    "print(re.findall(pattern, S2, re.IGNORECASE)) # ['Python', 'Python']\n"
   ]
  },
  {
   "cell_type": "code",
   "execution_count": 40,
   "id": "399d50a4",
   "metadata": {},
   "outputs": [
    {
     "name": "stdout",
     "output_type": "stream",
     "text": [
      "birds 4 9\n",
      "birds 38 43\n"
     ]
    }
   ],
   "source": [
    "import re\n",
    "text = 'the birds in the park are amazing.The birds in the park are speaking nicely.'\n",
    "for match in re.finditer(r'birds', text):\n",
    "    print(match.group(), match.start(), match.end())\n",
    "\n"
   ]
  },
  {
   "cell_type": "code",
   "execution_count": 36,
   "id": "e49763aa",
   "metadata": {},
   "outputs": [
    {
     "name": "stdout",
     "output_type": "stream",
     "text": [
      "John\n",
      "Smith\n",
      "123-456-7890\n"
     ]
    }
   ],
   "source": [
    "import re\n",
    "text = 'John Smith, 123-456-7890'\n",
    "match = re.search(r'(\\w+) (\\w+), (\\d{3}-\\d{3}-\\d{4})', text)\n",
    "if match:\n",
    "    print(match.group(1))  \n",
    "    print(match.group(2))  \n",
    "    print(match.group(3))  \n"
   ]
  },
  {
   "cell_type": "code",
   "execution_count": 42,
   "id": "8447e201",
   "metadata": {},
   "outputs": [
    {
     "name": "stdout",
     "output_type": "stream",
     "text": [
      "['2']\n"
     ]
    }
   ],
   "source": [
    "import re\n",
    "text = 'she have 2 notes and 5 books.'\n",
    "result = re.findall(r'(?<=have )\\d+', text)  # Matches digits preceded by 'have '\n",
    "print(result) \n"
   ]
  },
  {
   "cell_type": "code",
   "execution_count": 43,
   "id": "21f3879a",
   "metadata": {},
   "outputs": [
    {
     "name": "stdout",
     "output_type": "stream",
     "text": [
      "['12', '24']\n"
     ]
    }
   ],
   "source": [
    "import re\n",
    "pattern = re.compile(r'\\d+')\n",
    "text = 'There are 12 apples and 24 oranges.'\n",
    "result = pattern.findall(text)\n",
    "print(result) \n"
   ]
  },
  {
   "cell_type": "code",
   "execution_count": 39,
   "id": "db561fb8",
   "metadata": {},
   "outputs": [
    {
     "name": "stdout",
     "output_type": "stream",
     "text": [
      "{'welcome'}\n"
     ]
    }
   ],
   "source": [
    "import re\n",
    "\n",
    "text = \"welcome you the class.Welcome to AI\"\n",
    "pattern = r'\\b(\\w+)\\b(?=.*\\b\\1\\b)'\n",
    "\n",
    "matches = re.findall(pattern, text, re.IGNORECASE)\n",
    "print(set(matches))  # Output: {'test', 'repeated'}\n"
   ]
  },
  {
   "cell_type": "code",
   "execution_count": 44,
   "id": "8f026083",
   "metadata": {},
   "outputs": [
    {
     "name": "stdout",
     "output_type": "stream",
     "text": [
      "manipulation text for great is Python\n"
     ]
    }
   ],
   "source": [
    "import re\n",
    "\n",
    "def reverse_words(text):\n",
    "    words = re.findall(r'\\S+', text)\n",
    "    reversed_words = ' '.join(reversed(words))\n",
    "    return reversed_words\n",
    "\n",
    "text = \"Python is great for text manipulation\"\n",
    "reversed_text = reverse_words(text)\n",
    "print(reversed_text)"
   ]
  },
  {
   "cell_type": "code",
   "execution_count": 46,
   "id": "023357f1",
   "metadata": {},
   "outputs": [
    {
     "name": "stdout",
     "output_type": "stream",
     "text": [
      "[76, 101, 97, 114, 110, 105, 110, 103]\n"
     ]
    }
   ],
   "source": [
    "import re\n",
    "def string_to_ascii(s):\n",
    "    return [ord(char) for char in s]\n",
    "\n",
    "input_string = \"Learning\"\n",
    "ascii_codes = string_to_ascii(input_string)\n",
    "print(ascii_codes)"
   ]
  },
  {
   "cell_type": "code",
   "execution_count": null,
   "id": "30391f0c",
   "metadata": {},
   "outputs": [],
   "source": []
  }
 ],
 "metadata": {
  "kernelspec": {
   "display_name": "Python 3 (ipykernel)",
   "language": "python",
   "name": "python3"
  },
  "language_info": {
   "codemirror_mode": {
    "name": "ipython",
    "version": 3
   },
   "file_extension": ".py",
   "mimetype": "text/x-python",
   "name": "python",
   "nbconvert_exporter": "python",
   "pygments_lexer": "ipython3",
   "version": "3.11.5"
  }
 },
 "nbformat": 4,
 "nbformat_minor": 5
}
